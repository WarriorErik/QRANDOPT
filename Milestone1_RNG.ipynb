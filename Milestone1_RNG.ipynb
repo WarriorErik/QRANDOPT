{
 "cells": [
  {
   "cell_type": "code",
   "execution_count": 1,
   "id": "0ad58eea",
   "metadata": {},
   "outputs": [
    {
     "name": "stderr",
     "output_type": "stream",
     "text": [
      "C:\\Users\\ereci\\AppData\\Local\\Temp\\ipykernel_113956\\2725643963.py:3: DeprecationWarning: pkg_resources is deprecated as an API. See https://setuptools.pypa.io/en/latest/pkg_resources.html\n",
      "  import pkg_resources\n"
     ]
    },
    {
     "name": "stdout",
     "output_type": "stream",
     "text": [
      "pip list | grep qiskit:\n",
      "\n",
      "pip list output:\n",
      "  qiskit                  2.0.0\n",
      "  qiskit-aer              0.17.0\n",
      "\n",
      "qiskit‑aer version: 0.17.0\n",
      "\n",
      "qiskit-related modules found:\n",
      "['qiskit', 'qiskit_aer']\n"
     ]
    }
   ],
   "source": [
    "import sys\n",
    "import subprocess\n",
    "import pkg_resources\n",
    "import pkgutil\n",
    "print(\"pip list | grep qiskit:\")\n",
    "subprocess.run([sys.executable, \"-m\", \"pip\", \"list\", \"--disable-pip-version-check\"], stdout=subprocess.PIPE).stdout.decode().splitlines()\n",
    "# 2. What Qiskit packages are installed?\n",
    "print(\"\\npip list output:\")\n",
    "for line in subprocess.run(\n",
    "    [sys.executable, \"-m\", \"pip\", \"list\", \"--disable-pip-version-check\"],\n",
    "    stdout=subprocess.PIPE\n",
    ").stdout.decode().splitlines():\n",
    "    if \"qiskit\" in line.lower():\n",
    "        print(\" \", line)\n",
    "\n",
    "# 3. Is qiskit-aer present?\n",
    "try:\n",
    "    dist = pkg_resources.get_distribution(\"qiskit-aer\")\n",
    "    print(f\"\\nqiskit‑aer version: {dist.version}\")\n",
    "except pkg_resources.DistributionNotFound:\n",
    "    print(\"\\nqiskit‑aer is NOT installed\")\n",
    "\n",
    "# 4. What qiskit modules can Python actually see?\n",
    "print(\"\\nqiskit-related modules found:\")\n",
    "print([m.name for m in pkgutil.iter_modules() if \"qiskit\" in m.name])"
   ]
  }
 ],
 "metadata": {
  "kernelspec": {
   "display_name": "qrng311",
   "language": "python",
   "name": "python3"
  },
  "language_info": {
   "codemirror_mode": {
    "name": "ipython",
    "version": 3
   },
   "file_extension": ".py",
   "mimetype": "text/x-python",
   "name": "python",
   "nbconvert_exporter": "python",
   "pygments_lexer": "ipython3",
   "version": "3.11.11"
  }
 },
 "nbformat": 4,
 "nbformat_minor": 5
}
