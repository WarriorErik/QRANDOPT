{
 "cells": [
  {
   "cell_type": "code",
   "execution_count": 1,
   "id": "0ad58eea",
   "metadata": {},
   "outputs": [
    {
     "name": "stderr",
     "output_type": "stream",
     "text": [
      "C:\\Users\\ereci\\AppData\\Local\\Temp\\ipykernel_113956\\2725643963.py:3: DeprecationWarning: pkg_resources is deprecated as an API. See https://setuptools.pypa.io/en/latest/pkg_resources.html\n",
      "  import pkg_resources\n"
     ]
    },
    {
     "name": "stdout",
     "output_type": "stream",
     "text": [
      "pip list | grep qiskit:\n",
      "\n",
      "pip list output:\n",
      "  qiskit                  2.0.0\n",
      "  qiskit-aer              0.17.0\n",
      "\n",
      "qiskit‑aer version: 0.17.0\n",
      "\n",
      "qiskit-related modules found:\n",
      "['qiskit', 'qiskit_aer']\n"
     ]
    }
   ],
   "source": [
    "import sys\n",
    "import subprocess\n",
    "import pkg_resources\n",
    "import pkgutil\n",
    "print(\"pip list | grep qiskit:\")\n",
    "subprocess.run([sys.executable, \"-m\", \"pip\", \"list\", \"--disable-pip-version-check\"], stdout=subprocess.PIPE).stdout.decode().splitlines()\n",
    "# 2. What Qiskit packages are installed?\n",
    "print(\"\\npip list output:\")\n",
    "for line in subprocess.run(\n",
    "    [sys.executable, \"-m\", \"pip\", \"list\", \"--disable-pip-version-check\"],\n",
    "    stdout=subprocess.PIPE\n",
    ").stdout.decode().splitlines():\n",
    "    if \"qiskit\" in line.lower():\n",
    "        print(\" \", line)\n",
    "\n",
    "# 3. Is qiskit-aer present?\n",
    "try:\n",
    "    dist = pkg_resources.get_distribution(\"qiskit-aer\")\n",
    "    print(f\"\\nqiskit‑aer version: {dist.version}\")\n",
    "except pkg_resources.DistributionNotFound:\n",
    "    print(\"\\nqiskit‑aer is NOT installed\")\n",
    "\n",
    "# 4. What qiskit modules can Python actually see?\n",
    "print(\"\\nqiskit-related modules found:\")\n",
    "print([m.name for m in pkgutil.iter_modules() if \"qiskit\" in m.name])"
   ]
  },
  {
   "cell_type": "code",
   "execution_count": 1,
   "id": "87a3dc79",
   "metadata": {},
   "outputs": [
    {
     "name": "stdout",
     "output_type": "stream",
     "text": [
      "{'1': 488, '0': 536}\n"
     ]
    }
   ],
   "source": [
    "from qiskit import QuantumCircuit\n",
    "from qiskit_aer import AerSimulator\n",
    "\n",
    "# 1 qubit + 1 cbit\n",
    "qc = QuantumCircuit(1, 1)\n",
    "qc.h(0)\n",
    "qc.measure(0, 0)           \n",
    "\n",
    "sim = AerSimulator()\n",
    "job = sim.run(qc, shots=1024)  \n",
    "result = job.result()\n",
    "\n",
    "counts = result.get_counts()   \n",
    "print(counts)          "
   ]
  },
  {
   "cell_type": "code",
   "execution_count": 2,
   "id": "5e39ab81",
   "metadata": {},
   "outputs": [
    {
     "name": "stdout",
     "output_type": "stream",
     "text": [
      "Requirement already satisfied: matplotlib in c:\\users\\ereci\\anaconda3\\envs\\qrng311\\lib\\site-packages (3.10.1)\n",
      "Requirement already satisfied: contourpy>=1.0.1 in c:\\users\\ereci\\anaconda3\\envs\\qrng311\\lib\\site-packages (from matplotlib) (1.3.2)\n",
      "Requirement already satisfied: cycler>=0.10 in c:\\users\\ereci\\anaconda3\\envs\\qrng311\\lib\\site-packages (from matplotlib) (0.12.1)\n",
      "Requirement already satisfied: fonttools>=4.22.0 in c:\\users\\ereci\\anaconda3\\envs\\qrng311\\lib\\site-packages (from matplotlib) (4.57.0)\n",
      "Requirement already satisfied: kiwisolver>=1.3.1 in c:\\users\\ereci\\anaconda3\\envs\\qrng311\\lib\\site-packages (from matplotlib) (1.4.8)\n",
      "Requirement already satisfied: numpy>=1.23 in c:\\users\\ereci\\anaconda3\\envs\\qrng311\\lib\\site-packages (from matplotlib) (2.2.5)\n",
      "Requirement already satisfied: packaging>=20.0 in c:\\users\\ereci\\anaconda3\\envs\\qrng311\\lib\\site-packages (from matplotlib) (25.0)\n",
      "Requirement already satisfied: pillow>=8 in c:\\users\\ereci\\anaconda3\\envs\\qrng311\\lib\\site-packages (from matplotlib) (11.2.1)\n",
      "Requirement already satisfied: pyparsing>=2.3.1 in c:\\users\\ereci\\anaconda3\\envs\\qrng311\\lib\\site-packages (from matplotlib) (3.2.3)\n",
      "Requirement already satisfied: python-dateutil>=2.7 in c:\\users\\ereci\\anaconda3\\envs\\qrng311\\lib\\site-packages (from matplotlib) (2.9.0.post0)\n",
      "Requirement already satisfied: six>=1.5 in c:\\users\\ereci\\anaconda3\\envs\\qrng311\\lib\\site-packages (from python-dateutil>=2.7->matplotlib) (1.17.0)\n"
     ]
    }
   ],
   "source": [
    "!pip install matplotlib"
   ]
  },
  {
   "cell_type": "code",
   "execution_count": 3,
   "id": "135de371",
   "metadata": {},
   "outputs": [
    {
     "data": {
      "image/png": "[encoded data removed]",
      "text/plain": [
       "<Figure size 640x480 with 1 Axes>"
      ]
     },
     "metadata": {},
     "output_type": "display_data"
    }
   ],
   "source": [
    "\n",
    "import matplotlib.pyplot as plt\n",
    "\n",
    "\n",
    "qc = QuantumCircuit(1, 1)\n",
    "qc.h(0)\n",
    "qc.measure(0, 0)\n",
    "\n",
    "\n",
    "sim = AerSimulator()\n",
    "job = sim.run(qc, shots=1024)\n",
    "result = job.result()\n",
    "counts = result.get_counts()  \n",
    "\n",
    "\n",
    "plt.bar(counts.keys(), counts.values())\n",
    "plt.xlabel('Measurement outcome')\n",
    "plt.ylabel('Counts')\n",
    "plt.title('Milestone 1: H‑Gate Randomness (1024 shots)')\n",
    "plt.show()"
   ]
  }
 ],
 "metadata": {
  "kernelspec": {
   "display_name": "qrng311",
   "language": "python",
   "name": "python3"
  },
  "language_info": {
   "codemirror_mode": {
    "name": "ipython",
    "version": 3
   },
   "file_extension": ".py",
   "mimetype": "text/x-python",
   "name": "python",
   "nbconvert_exporter": "python",
   "pygments_lexer": "ipython3",
   "version": "3.11.11"
  }
 },
 "nbformat": 4,
 "nbformat_minor": 5
}
