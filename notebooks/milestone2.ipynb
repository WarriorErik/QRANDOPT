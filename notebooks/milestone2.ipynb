{
 "cells": [
  {
   "cell_type": "code",
   "execution_count": 1,
   "id": "5385976a",
   "metadata": {},
   "outputs": [],
   "source": [
    "import sys, os\n",
    "project_root = os.path.abspath(os.path.join(os.getcwd(), os.pardir))\n",
    "if project_root not in sys.path:\n",
    "    sys.path.insert(0, project_root)\n",
    "\n",
    "from extractors import von_neumann, elias, universal_hash\n",
    "from utils import compute_bias\n",
    "\n",
    "\n",
    "import numpy as np\n",
    "import matplotlib.pyplot as plt\n"
   ]
  },
  {
   "cell_type": "code",
   "execution_count": 2,
   "id": "bd4106e8",
   "metadata": {},
   "outputs": [
    {
     "name": "stdout",
     "output_type": "stream",
     "text": [
      "Raw bias = 0.304, length = 1000\n"
     ]
    }
   ],
   "source": [
    "\n",
    "raw_bits = np.random.choice([0,1], size=1000, p=[0.8,0.2]).tolist()\n",
    "print(f\"Raw bias = {compute_bias(raw_bits):.3f}, length = {len(raw_bits)}\")\n"
   ]
  },
  {
   "cell_type": "code",
   "execution_count": 3,
   "id": "fd282528",
   "metadata": {},
   "outputs": [
    {
     "name": "stdout",
     "output_type": "stream",
     "text": [
      "✔️ Project root: C:\\Users\\ereci\\OneDrive\\Desktop\\QRANDOPT\\QRANDOPT\n",
      "✔️ Working dir:   C:\\Users\\ereci\\OneDrive\\Desktop\\QRANDOPT\\QRANDOPT\n"
     ]
    }
   ],
   "source": [
    "\n",
    "import sys, os\n",
    "from pathlib import Path\n",
    "\n",
    "\n",
    "p = Path().resolve()\n",
    "\n",
    "\n",
    "while not (p / \"extractors\").is_dir():\n",
    "    if p.parent == p:\n",
    "        raise RuntimeError(\"Could not find project root (no 'extractors/' folder).\")\n",
    "    p = p.parent\n",
    "\n",
    "project_root = p  \n",
    "\n",
    "\n",
    "os.chdir(project_root)\n",
    "\n",
    "\n",
    "if str(project_root) not in sys.path:\n",
    "    sys.path.insert(0, str(project_root))\n",
    "\n",
    "print(f\"✔️ Project root: {project_root}\")\n",
    "print(f\"✔️ Working dir:   {os.getcwd()}\")\n"
   ]
  },
  {
   "cell_type": "code",
   "execution_count": 4,
   "id": "c037a37f",
   "metadata": {},
   "outputs": [
    {
     "name": "stdout",
     "output_type": "stream",
     "text": [
      "pytest already installed\n"
     ]
    }
   ],
   "source": [
    "\n",
    "import importlib, subprocess, sys\n",
    "\n",
    "if importlib.util.find_spec(\"pytest\") is None:\n",
    "    print(\"Installing pytest…\")\n",
    "    subprocess.check_call([sys.executable, \"-m\", \"pip\", \"install\", \"pytest\"])\n",
    "else:\n",
    "    print(\"pytest already installed\")\n"
   ]
  },
  {
   "cell_type": "code",
   "execution_count": 5,
   "id": "7431964c",
   "metadata": {},
   "outputs": [
    {
     "name": "stdout",
     "output_type": "stream",
     "text": [
      "Extractor | Bias before | Bias after | Output len\n",
      "--------- | ----------- | ---------- | ----------\n",
      "     VN | 0.291      | 0.015     | 167\n",
      "  Elias | 0.291      | 0.093     | 214\n",
      "   Hash | 0.291      | 0.039     | 256\n"
     ]
    },
    {
     "data": {
      "image/png": "[encoded data removed]",
      "text/plain": [
       "<Figure size 640x480 with 1 Axes>"
      ]
     },
     "metadata": {},
     "output_type": "display_data"
    },
    {
     "name": "stdout",
     "output_type": "stream",
     "text": [
      "\u001b[32m.\u001b[0m\u001b[32m.\u001b[0m\u001b[32m.\u001b[0m\u001b[32m.\u001b[0m\u001b[32m                                                                     [100%]\u001b[0m\n",
      "\u001b[32m\u001b[32m\u001b[1m4 passed\u001b[0m\u001b[32m in 0.03s\u001b[0m\u001b[0m\n"
     ]
    },
    {
     "data": {
      "text/plain": [
       "<ExitCode.OK: 0>"
      ]
     },
     "execution_count": 5,
     "metadata": {},
     "output_type": "execute_result"
    }
   ],
   "source": [
    "\n",
    "from extractors import von_neumann, elias, universal_hash\n",
    "from utils      import compute_bias\n",
    "\n",
    "import numpy as np\n",
    "import matplotlib.pyplot as plt\n",
    "import pytest\n",
    "\n",
    "#Generate a toy biased stream\n",
    "raw_bits = np.random.choice([0,1], size=1000, p=[0.8,0.2]).tolist()\n",
    "\n",
    "# Apply basic extractors & compute bias\n",
    "results = {}\n",
    "for name, fn in [(\"VN\", von_neumann),\n",
    "                 (\"Elias\", elias),\n",
    "                 (\"Hash\", universal_hash)]:\n",
    "    out = fn(raw_bits)\n",
    "    results[name] = (compute_bias(raw_bits), compute_bias(out), len(out))\n",
    "\n",
    "\n",
    "print(\"Extractor | Bias before | Bias after | Output len\")\n",
    "print(\"--------- | ----------- | ---------- | ----------\")\n",
    "for name, (b0, b1, L) in results.items():\n",
    "    print(f\"{name:>7} | {b0:.3f}      | {b1:.3f}     | {L}\")\n",
    "\n",
    "# Plot bias reduction\n",
    "labels = list(results.keys())\n",
    "before = [v[0] for v in results.values()]\n",
    "after  = [v[1] for v in results.values()]\n",
    "x = np.arange(len(labels)); w = 0.35\n",
    "fig, ax = plt.subplots()\n",
    "ax.bar(x-w/2, before, w, label=\"Before\")\n",
    "ax.bar(x+w/2, after,  w, label=\"After\")\n",
    "ax.set_xticks(x); ax.set_xticklabels(labels)\n",
    "ax.set_ylabel(\"Absolute Bias\")\n",
    "ax.set_title(\"Bias Reduction via Classical Extractors\")\n",
    "ax.legend()\n",
    "plt.show()\n",
    "\n",
    "\n",
    "pytest.main([\"-q\", \"--disable-warnings\", \"--maxfail=1\"])\n"
   ]
  },
  {
   "cell_type": "code",
   "execution_count": 10,
   "id": "e58e7e87",
   "metadata": {},
   "outputs": [
    {
     "name": "stdout",
     "output_type": "stream",
     "text": [
      "N=1000  | before=0.285 | after=0.313 | len=801\n",
      "N=5000  | before=0.302 | after=0.318 | len=4104\n",
      "N=20000 | before=0.304 | after=0.317 | len=16905\n"
     ]
    }
   ],
   "source": [
    "import numpy as np\n",
    "\n",
    "\n",
    "\n",
    "for N in [1000, 5000, 20000]:\n",
    "    raw = np.random.choice([0,1], N, p=[0.8,0.2]).tolist()\n",
    "    out = elias(raw)\n",
    "    print(f\"N={N:<5d} | before={compute_bias(raw):.3f} | after={compute_bias(out):.3f} | len={len(out)}\")\n"
   ]
  },
  {
   "cell_type": "code",
   "execution_count": null,
   "id": "ca9f7a11",
   "metadata": {},
   "outputs": [],
   "source": []
  }
 ],
 "metadata": {
  "kernelspec": {
   "display_name": "qrng311",
   "language": "python",
   "name": "python3"
  },
  "language_info": {
   "codemirror_mode": {
    "name": "ipython",
    "version": 3
   },
   "file_extension": ".py",
   "mimetype": "text/x-python",
   "name": "python",
   "nbconvert_exporter": "python",
   "pygments_lexer": "ipython3",
   "version": "3.11.11"
  }
 },
 "nbformat": 4,
 "nbformat_minor": 5
}
