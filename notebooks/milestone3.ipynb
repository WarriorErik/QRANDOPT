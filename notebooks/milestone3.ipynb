{
 "cells": [
  {
   "cell_type": "code",
   "execution_count": 10,
   "id": "5385976a",
   "metadata": {},
   "outputs": [],
   "source": [
    "import sys, os\n",
    "project_root = os.path.abspath(os.path.join(os.getcwd(), os.pardir))\n",
    "if project_root not in sys.path:\n",
    "    sys.path.insert(0, project_root)\n",
    "\n",
    "from extractors import von_neumann, elias, universal_hash\n",
    "from utils import compute_bias\n",
    "\n",
    "\n",
    "import numpy as np\n",
    "import matplotlib.pyplot as plt\n"
   ]
  },
  {
   "cell_type": "code",
   "execution_count": 11,
   "id": "4c1c5719",
   "metadata": {},
   "outputs": [
    {
     "data": {
      "text/plain": [
       "'c:\\\\Users\\\\ereci\\\\OneDrive\\\\Desktop\\\\QRANDOPT\\\\QRANDOPT\\\\notebooks'"
      ]
     },
     "execution_count": 11,
     "metadata": {},
     "output_type": "execute_result"
    }
   ],
   "source": [
    "import os\n",
    "os.getcwd()\n"
   ]
  },
  {
   "cell_type": "code",
   "execution_count": 12,
   "id": "2c3c73a5",
   "metadata": {},
   "outputs": [
    {
     "name": "stdout",
     "output_type": "stream",
     "text": [
      "Collecting pytest\n",
      "  Using cached pytest-8.3.5-py3-none-any.whl.metadata (7.6 kB)\n",
      "Requirement already satisfied: colorama in c:\\users\\ereci\\anaconda3\\envs\\qrng-rl\\lib\\site-packages (from pytest) (0.4.6)\n",
      "Requirement already satisfied: exceptiongroup>=1.0.0rc8 in c:\\users\\ereci\\anaconda3\\envs\\qrng-rl\\lib\\site-packages (from pytest) (1.3.0)\n",
      "Collecting iniconfig (from pytest)\n",
      "  Using cached iniconfig-2.1.0-py3-none-any.whl.metadata (2.7 kB)\n",
      "Requirement already satisfied: packaging in c:\\users\\ereci\\anaconda3\\envs\\qrng-rl\\lib\\site-packages (from pytest) (25.0)\n",
      "Collecting pluggy<2,>=1.5 (from pytest)\n",
      "  Downloading pluggy-1.6.0-py3-none-any.whl.metadata (4.8 kB)\n",
      "Requirement already satisfied: tomli>=1 in c:\\users\\ereci\\anaconda3\\envs\\qrng-rl\\lib\\site-packages (from pytest) (2.2.1)\n",
      "Requirement already satisfied: typing-extensions>=4.6.0 in c:\\users\\ereci\\anaconda3\\envs\\qrng-rl\\lib\\site-packages (from exceptiongroup>=1.0.0rc8->pytest) (4.13.2)\n",
      "Using cached pytest-8.3.5-py3-none-any.whl (343 kB)\n",
      "Downloading pluggy-1.6.0-py3-none-any.whl (20 kB)\n",
      "Using cached iniconfig-2.1.0-py3-none-any.whl (6.0 kB)\n",
      "Installing collected packages: pluggy, iniconfig, pytest\n",
      "\n",
      "   -------------------------- ------------- 2/3 [pytest]\n",
      "   -------------------------- ------------- 2/3 [pytest]\n",
      "   ---------------------------------------- 3/3 [pytest]\n",
      "\n",
      "Successfully installed iniconfig-2.1.0 pluggy-1.6.0 pytest-8.3.5\n"
     ]
    }
   ],
   "source": [
    "!pip install pytest"
   ]
  },
  {
   "cell_type": "code",
   "execution_count": 13,
   "id": "4bf14841",
   "metadata": {},
   "outputs": [
    {
     "name": "stdout",
     "output_type": "stream",
     "text": [
      "\n",
      "\u001b[33m\u001b[33mno tests ran\u001b[0m\u001b[33m in 0.00s\u001b[0m\u001b[0m\n",
      "pytest exited with code 5\n"
     ]
    }
   ],
   "source": [
    "import pytest\n",
    "\n",
    "\n",
    "exit_code = pytest.main([\n",
    "    \"--maxfail=1\",\n",
    "    \"--disable-warnings\",\n",
    "    \"-q\",\n",
    "])\n",
    "print(f\"pytest exited with code {exit_code}\")\n"
   ]
  },
  {
   "cell_type": "code",
   "execution_count": 14,
   "id": "bd4106e8",
   "metadata": {},
   "outputs": [
    {
     "name": "stdout",
     "output_type": "stream",
     "text": [
      "Raw bias = 0.297, length = 1000\n"
     ]
    }
   ],
   "source": [
    "\n",
    "raw_bits = np.random.choice([0,1], size=1000, p=[0.8,0.2]).tolist()\n",
    "print(f\"Raw bias = {compute_bias(raw_bits):.3f}, length = {len(raw_bits)}\")\n"
   ]
  },
  {
   "cell_type": "code",
   "execution_count": 15,
   "id": "fd282528",
   "metadata": {},
   "outputs": [
    {
     "name": "stdout",
     "output_type": "stream",
     "text": [
      "✔️ Project root: C:\\Users\\ereci\\OneDrive\\Desktop\\QRANDOPT\\QRANDOPT\n",
      "✔️ Working dir:   C:\\Users\\ereci\\OneDrive\\Desktop\\QRANDOPT\\QRANDOPT\n"
     ]
    }
   ],
   "source": [
    "\n",
    "import sys, os\n",
    "from pathlib import Path\n",
    "\n",
    "\n",
    "p = Path().resolve()\n",
    "\n",
    "\n",
    "while not (p / \"extractors\").is_dir():\n",
    "    if p.parent == p:\n",
    "        raise RuntimeError(\"Could not find project root (no 'extractors/' folder).\")\n",
    "    p = p.parent\n",
    "\n",
    "project_root = p  \n",
    "\n",
    "\n",
    "os.chdir(project_root)\n",
    "\n",
    "\n",
    "if str(project_root) not in sys.path:\n",
    "    sys.path.insert(0, str(project_root))\n",
    "\n",
    "print(f\"✔️ Project root: {project_root}\")\n",
    "print(f\"✔️ Working dir:   {os.getcwd()}\")\n"
   ]
  },
  {
   "cell_type": "code",
   "execution_count": 16,
   "id": "c037a37f",
   "metadata": {},
   "outputs": [
    {
     "name": "stdout",
     "output_type": "stream",
     "text": [
      "pytest already installed\n"
     ]
    }
   ],
   "source": [
    "\n",
    "import importlib, subprocess, sys\n",
    "\n",
    "if importlib.util.find_spec(\"pytest\") is None:\n",
    "    print(\"Installing pytest…\")\n",
    "    subprocess.check_call([sys.executable, \"-m\", \"pip\", \"install\", \"pytest\"])\n",
    "else:\n",
    "    print(\"pytest already installed\")\n"
   ]
  },
  {
   "cell_type": "code",
   "execution_count": 17,
   "id": "7431964c",
   "metadata": {},
   "outputs": [
    {
     "name": "stdout",
     "output_type": "stream",
     "text": [
      "Extractor     | Bias before | Bias after | Output len\n",
      "------------- | ----------- | ---------- | ----------\n",
      "         VN |       0.281 |      0.016 |        159\n",
      "      Elias |       0.281 |      0.084 |        190\n",
      "       Hash |       0.281 |      0.020 |        256\n",
      "Maurer–Wolf |       0.281 |      0.024 |        496\n"
     ]
    },
    {
     "data": {
      "image/png": "[encoded data removed]",
      "text/plain": [
       "<Figure size 640x480 with 1 Axes>"
      ]
     },
     "metadata": {},
     "output_type": "display_data"
    }
   ],
   "source": [
    "\"\"\"\n",
    "compare_extractors.py\n",
    "Bias comparison and plotting for classical extractors plus Maurer–Wolf.\n",
    "\"\"\"\n",
    "import pytest\n",
    "import numpy as np\n",
    "import matplotlib.pyplot as plt\n",
    "\n",
    "from extractors.von_neumann    import von_neumann\n",
    "from extractors.elias          import elias\n",
    "from extractors.universal_hash import universal_hash\n",
    "from extractors.maurer_wolf    import maurer_wolf_extractor\n",
    "from utils                     import compute_bias\n",
    "\n",
    "def bits_to_bytes(bits):\n",
    "    \"\"\"Pack list of 0/1 bits into a bytes object (MSB-first).\"\"\"\n",
    "   \n",
    "    pad = (-len(bits)) % 8\n",
    "    bits = bits + [0]*pad\n",
    "    output = bytearray()\n",
    "    for i in range(0, len(bits), 8):\n",
    "        byte = 0\n",
    "        for b in bits[i:i+8]:\n",
    "            byte = (byte << 1) | b\n",
    "        output.append(byte)\n",
    "    return bytes(output)\n",
    "\n",
    "def bytes_to_bits(b):\n",
    "    \"\"\"Unpack bytes into list of bits (MSB-first).\"\"\"\n",
    "    bits = []\n",
    "    for byte in b:\n",
    "        for shift in range(7, -1, -1):\n",
    "            bits.append((byte >> shift) & 1)\n",
    "    return bits\n",
    "\n",
    "\n",
    "raw_bits = np.random.choice([0, 1], size=1000, p=[0.8, 0.2]).tolist()\n",
    "\n",
    "# Applying extractors & computing bias\n",
    "results = {}\n",
    "for name, fn in [\n",
    "    (\"VN\",          von_neumann),\n",
    "    (\"Elias\",       elias),\n",
    "    (\"Hash\",        lambda bits: universal_hash(bits, seed=\"abc\")),\n",
    "    (\"Maurer–Wolf\", None)  \n",
    "]:\n",
    "    if name != \"Maurer–Wolf\":\n",
    "        out = fn(raw_bits)\n",
    "    else:\n",
    "        # preparing inputs for the byte-based extractor\n",
    "        raw_bytes = bits_to_bytes(raw_bits)\n",
    "        seed      = b\"abc\"              \n",
    "        out_len   = len(raw_bytes) // 2 \n",
    "        extracted = maurer_wolf_extractor(raw_bytes, seed, out_len)\n",
    "        out = bytes_to_bits(extracted)\n",
    "\n",
    "    results[name] = (compute_bias(raw_bits), compute_bias(out), len(out))\n",
    "\n",
    "# Print summary table\n",
    "print(\"Extractor     | Bias before | Bias after | Output len\")\n",
    "print(\"------------- | ----------- | ---------- | ----------\")\n",
    "for name, (b0, b1, L) in results.items():\n",
    "    print(f\"{name:>11} | {b0:>11.3f} | {b1:>10.3f} | {L:>10}\")\n",
    "\n",
    "# Plot bias reduction\n",
    "labels = list(results.keys())\n",
    "before = [v[0] for v in results.values()]\n",
    "after  = [v[1] for v in results.values()]\n",
    "x = np.arange(len(labels))\n",
    "w = 0.35\n",
    "\n",
    "fig, ax = plt.subplots()\n",
    "ax.bar(x - w/2, before, width=w, label=\"Before\")\n",
    "ax.bar(x + w/2, after,  width=w, label=\"After\")\n",
    "ax.set_xticks(x)\n",
    "ax.set_xticklabels(labels, rotation=15, ha=\"right\")\n",
    "ax.set_ylabel(\"Absolute Bias\")\n",
    "ax.set_title(\"Bias Reduction via Extractors\")\n",
    "ax.legend()\n",
    "plt.tight_layout()\n",
    "plt.show()\n",
    "\n",
    "\n"
   ]
  },
  {
   "cell_type": "code",
   "execution_count": 18,
   "id": "40f16d16",
   "metadata": {},
   "outputs": [
    {
     "name": "stdout",
     "output_type": "stream",
     "text": [
      "\u001b[32m.\u001b[0m\u001b[32m.\u001b[0m\u001b[32m.\u001b[0m\u001b[32m.\u001b[0m\u001b[32m.\u001b[0m\u001b[32m.\u001b[0m\u001b[32m                                                                   [100%]\u001b[0m\n",
      "\u001b[32m\u001b[32m\u001b[1m6 passed\u001b[0m\u001b[32m in 0.03s\u001b[0m\u001b[0m\n",
      "pytest exited with code 0\n"
     ]
    }
   ],
   "source": [
    "\n",
    "import pytest\n",
    "\n",
    "# Explicitly pointing pytest at the tests directory:\n",
    "exit_code = pytest.main([\n",
    "    f\"{project_root}/tests\",\n",
    "    \"--maxfail=1\",\n",
    "    \"--disable-warnings\",\n",
    "    \"-q\",\n",
    "])\n",
    "print(f\"pytest exited with code {exit_code}\")\n"
   ]
  },
  {
   "cell_type": "code",
   "execution_count": 19,
   "id": "e58e7e87",
   "metadata": {},
   "outputs": [
    {
     "name": "stdout",
     "output_type": "stream",
     "text": [
      "N=1000  | before=0.330 | after=0.124 | len=165\n",
      "N=5000  | before=0.303 | after=0.075 | len=650\n",
      "N=20000 | before=0.296 | after=0.069 | len=3046\n"
     ]
    }
   ],
   "source": [
    "import numpy as np\n",
    "\n",
    "\n",
    "\n",
    "for N in [1000, 5000, 20000]:\n",
    "    raw = np.random.choice([0,1], N, p=[0.8,0.2]).tolist()\n",
    "    out = elias(raw)\n",
    "    print(f\"N={N:<5d} | before={compute_bias(raw):.3f} | after={compute_bias(out):.3f} | len={len(out)}\")\n"
   ]
  },
  {
   "cell_type": "code",
   "execution_count": 20,
   "id": "ca9f7a11",
   "metadata": {},
   "outputs": [
    {
     "name": "stdout",
     "output_type": "stream",
     "text": [
      "Requirement already satisfied: gym in c:\\users\\ereci\\anaconda3\\envs\\qrng-rl\\lib\\site-packages (0.26.1)\n",
      "Requirement already satisfied: numpy>=1.18.0 in c:\\users\\ereci\\anaconda3\\envs\\qrng-rl\\lib\\site-packages (from gym) (1.26.4)\n",
      "Requirement already satisfied: cloudpickle>=1.2.0 in c:\\users\\ereci\\anaconda3\\envs\\qrng-rl\\lib\\site-packages (from gym) (3.1.1)\n",
      "Requirement already satisfied: gym-notices>=0.0.4 in c:\\users\\ereci\\anaconda3\\envs\\qrng-rl\\lib\\site-packages (from gym) (0.0.8)\n"
     ]
    }
   ],
   "source": [
    "!pip install gym"
   ]
  },
  {
   "cell_type": "code",
   "execution_count": 21,
   "id": "b4782995",
   "metadata": {},
   "outputs": [
    {
     "name": "stdout",
     "output_type": "stream",
     "text": [
      "3.10.17 | packaged by conda-forge | (main, Apr 10 2025, 22:06:35) [MSC v.1943 64 bit (AMD64)]\n"
     ]
    }
   ],
   "source": [
    "import sys\n",
    "print(sys.version)\n"
   ]
  },
  {
   "cell_type": "code",
   "execution_count": 22,
   "id": "72fa4306",
   "metadata": {},
   "outputs": [
    {
     "name": "stdout",
     "output_type": "stream",
     "text": [
      "Python executable: c:\\Users\\ereci\\anaconda3\\envs\\qrng-rl\\python.exe\n"
     ]
    }
   ],
   "source": [
    "import sys\n",
    "print(\"Python executable:\", sys.executable)\n"
   ]
  },
  {
   "cell_type": "code",
   "execution_count": 24,
   "id": "0c3a18dd",
   "metadata": {},
   "outputs": [
    {
     "name": "stdout",
     "output_type": "stream",
     "text": [
      "Episode    0  Reward: 0.73  Epsilon: 0.199\n",
      "Episode  100  Reward: 1.70  Epsilon: 0.121\n",
      "Episode  200  Reward: 1.67  Epsilon: 0.073\n",
      "Episode  300  Reward: 0.81  Epsilon: 0.044\n",
      "Episode  400  Reward: 1.68  Epsilon: 0.027\n",
      "Episode  500  Reward: 1.77  Epsilon: 0.016\n",
      "Episode  600  Reward: 1.77  Epsilon: 0.010\n",
      "Episode  700  Reward: 1.77  Epsilon: 0.010\n",
      "Episode  800  Reward: 1.77  Epsilon: 0.010\n",
      "Episode  900  Reward: 1.77  Epsilon: 0.010\n",
      "Episode 1000  Reward: 1.77  Epsilon: 0.010\n",
      "Episode 1100  Reward: 1.77  Epsilon: 0.010\n",
      "Episode 1200  Reward: 1.77  Epsilon: 0.010\n",
      "Episode 1300  Reward: 1.77  Epsilon: 0.010\n",
      "Episode 1400  Reward: 1.77  Epsilon: 0.010\n",
      "Episode 1500  Reward: 1.77  Epsilon: 0.010\n",
      "Episode 1600  Reward: 1.67  Epsilon: 0.010\n",
      "Episode 1700  Reward: 1.78  Epsilon: 0.010\n",
      "Episode 1800  Reward: 1.73  Epsilon: 0.010\n",
      "Episode 1900  Reward: 1.77  Epsilon: 0.010\n",
      "Training complete.\n"
     ]
    },
    {
     "data": {
      "image/png": "[encoded data removed]",
      "text/plain": [
       "<Figure size 800x400 with 1 Axes>"
      ]
     },
     "metadata": {},
     "output_type": "display_data"
    }
   ],
   "source": [
    "\n",
    "import numpy as np\n",
    "import matplotlib.pyplot as plt\n",
    "import gym\n",
    "from gym import spaces\n",
    "\n",
    "import os\n",
    "\n",
    "\n",
    "\n",
    "\n",
    "from qiskit_aer import AerSimulator                    # Aer lives in its own package now\n",
    "from qiskit import transpile, QuantumCircuit\n",
    "\n",
    "from extractors.von_neumann    import von_neumann\n",
    "from extractors.elias          import elias\n",
    "from extractors.universal_hash import universal_hash\n",
    "from extractors.maurer_wolf    import maurer_wolf_extractor\n",
    "from utils                     import compute_bias\n",
    "\n",
    "\n",
    "\n",
    "def generate_quantum_bits(num_bits: int, batch_size: int = 256) -> list[int]:\n",
    "    backend = AerSimulator()                      # limitless qubits\n",
    "    qc = QuantumCircuit(batch_size, batch_size)\n",
    "    qc.h(range(batch_size))\n",
    "    qc.measure(range(batch_size), range(batch_size))\n",
    "\n",
    "    shots  = (num_bits + batch_size - 1) // batch_size\n",
    "    # ↓ no coupling-map check\n",
    "    result = backend.run(qc, shots=shots).result()\n",
    "\n",
    "    bits: list[int] = []\n",
    "    for bitstr, occ in result.get_counts().items():\n",
    "        bits.extend([int(b) for b in bitstr] * occ)\n",
    "        if len(bits) >= num_bits:\n",
    "            break\n",
    "    return bits[:num_bits]\n",
    "\n",
    "\n",
    "\n",
    "\n",
    "class ExtractorEnv(gym.Env):\n",
    "    \"\"\"\n",
    "    Gym environment wrapping classical extractors.\n",
    "    State: [bias, entropy] of the next window\n",
    "    Action: choose extractor (0=VN,1=Elias,2=Hash,3=Maurer–Wolf)\n",
    "    Reward: -|out_bias| + alpha*(len(out)/len(window))\n",
    "    \"\"\"\n",
    "    metadata = {'render.modes': []}\n",
    "\n",
    "    def __init__(self, raw_bits, window_size=256, alpha=0.1):\n",
    "        super().__init__()\n",
    "        self.raw_bits         = raw_bits\n",
    "        self.window_size      = window_size\n",
    "        self.alpha            = alpha\n",
    "        self.action_space     = spaces.Discrete(4)\n",
    "        self.observation_space= spaces.Box(0.0, 1.0, (2,), np.float32)\n",
    "        self.reset()\n",
    "\n",
    "    def reset(self):\n",
    "        self.pos = 0\n",
    "        return self._next_state()\n",
    "\n",
    "    def step(self, action):\n",
    "        start, end = self.pos, min(self.pos + self.window_size, len(self.raw_bits))\n",
    "        window     = self.raw_bits[start:end]\n",
    "\n",
    "        # apply chosen extractor\n",
    "        if   action == 0:\n",
    "            out = von_neumann(window)\n",
    "        elif action == 1:\n",
    "            out = elias(window)\n",
    "        elif action == 2:\n",
    "            out = universal_hash(window, seed=\"seed\")\n",
    "        else:\n",
    "            rb = self._bits_to_bytes(window)\n",
    "            ob = maurer_wolf_extractor(rb, seed=b\"seed\",\n",
    "                                       output_len=len(rb)//2)\n",
    "            out = self._bytes_to_bits(ob)\n",
    "\n",
    "        # compute reward\n",
    "        out_bias = compute_bias(out)\n",
    "        reward   = -abs(out_bias) + self.alpha * (len(out)/len(window))\n",
    "\n",
    "        # advance\n",
    "        self.pos = end\n",
    "        done      = (self.pos >= len(self.raw_bits))\n",
    "        state     = self._next_state()\n",
    "        return state, reward, done, {'out_bits': out}\n",
    "\n",
    "    def _next_state(self):\n",
    "        end    = min(self.pos + self.window_size, len(self.raw_bits))\n",
    "        window = self.raw_bits[self.pos:end]\n",
    "        if not window:\n",
    "            return np.array([0., 0.], dtype=np.float32)\n",
    "\n",
    "        bias = compute_bias(window)\n",
    "        p1   = sum(window)/len(window)\n",
    "        p0   = 1 - p1\n",
    "        entropy = -(p0*np.log2(p0+1e-9) + p1*np.log2(p1+1e-9))\n",
    "        return np.array([bias, entropy], dtype=np.float32)\n",
    "\n",
    "    @staticmethod\n",
    "    def _bits_to_bytes(bits):\n",
    "        pad  = (-len(bits)) % 8\n",
    "        bits = bits + [0]*pad\n",
    "        out  = bytearray()\n",
    "        for i in range(0, len(bits), 8):\n",
    "            byte = 0\n",
    "            for b in bits[i:i+8]:\n",
    "                byte = (byte<<1) | b\n",
    "            out.append(byte)\n",
    "        return bytes(out)\n",
    "\n",
    "    @staticmethod\n",
    "    def _bytes_to_bits(b):\n",
    "        bits = []\n",
    "        for byte in b:\n",
    "            for shift in range(7, -1, -1):\n",
    "                bits.append((byte>>shift)&1)\n",
    "        return bits\n",
    "\n",
    "\n",
    "\n",
    "class QLearningAgent:\n",
    "    \"\"\"Simple tabular Q‑learning agent with learning‑curve logging.\"\"\"\n",
    "    def __init__(self, env, alpha=0.1, gamma=0.99, epsilon=0.1):\n",
    "        self.env             = env\n",
    "        self.alpha           = alpha\n",
    "        self.gamma           = gamma\n",
    "        self.epsilon         = epsilon\n",
    "        self.q_table         = np.zeros((20, 20, env.action_space.n))\n",
    "        self.history_rewards = []  \n",
    "\n",
    "    def discretize(self, state):\n",
    "        # map continuous [0,1]^2 state to integer grid 0–19\n",
    "        return tuple((state * 19).astype(int))\n",
    "\n",
    "    def select_action(self, state):\n",
    "        s = self.discretize(state)\n",
    "        if np.random.rand() < self.epsilon:\n",
    "            return self.env.action_space.sample()\n",
    "        return int(np.argmax(self.q_table[s]))\n",
    "\n",
    "    def train(self, episodes=1000):\n",
    "        for ep in range(episodes):\n",
    "            state, done     = self.env.reset(), False\n",
    "            total_reward    = 0.0\n",
    "            while not done:\n",
    "                action = self.select_action(state)\n",
    "                next_state, reward, done, _ = self.env.step(action)\n",
    "\n",
    "                s_idx, ns_idx = self.discretize(state), self.discretize(next_state)\n",
    "                best_next     = np.max(self.q_table[ns_idx])\n",
    "                idx           = s_idx + (action,)\n",
    "              \n",
    "                self.q_table[idx] += self.alpha * (\n",
    "                    reward + self.gamma * best_next - self.q_table[idx]\n",
    "                )\n",
    "\n",
    "                state         = next_state\n",
    "                total_reward += reward\n",
    "\n",
    "            # log & decay exploration\n",
    "            self.history_rewards.append(total_reward)\n",
    "            self.epsilon = max(0.01, self.epsilon * 0.995)\n",
    "            if ep % 100 == 0:\n",
    "                print(f\"Episode {ep:4d}  Reward: {total_reward:.2f}  Epsilon: {self.epsilon:.3f}\")\n",
    "\n",
    "\n",
    "\n",
    "# Preparing a biased stream\n",
    "raw = generate_quantum_bits(20_000) \n",
    "\n",
    "# Instantiate env & agent\n",
    "env   = ExtractorEnv(raw, window_size=512, alpha=0.1)\n",
    "agent = QLearningAgent(env, alpha=0.1, gamma=0.99, epsilon=0.2)\n",
    "\n",
    "# Training for 2 000 episodes\n",
    "agent.train(episodes=2000)\n",
    "print(\"Training complete.\")\n",
    "\n",
    "# Plotting the learning curve\n",
    "plt.figure(figsize=(8,4))\n",
    "plt.plot(agent.history_rewards, label=\"Total Reward per Episode\")\n",
    "plt.xlabel(\"Episode\")\n",
    "plt.ylabel(\"Total Reward\")\n",
    "plt.title(\"QLearning Learning Curve\")\n",
    "plt.grid(True)\n",
    "plt.legend()\n",
    "plt.show()\n"
   ]
  },
  {
   "cell_type": "code",
   "execution_count": null,
   "id": "d9a4d073",
   "metadata": {},
   "outputs": [],
   "source": []
  },
  {
   "cell_type": "code",
   "execution_count": 26,
   "id": "949e90d7",
   "metadata": {},
   "outputs": [
    {
     "name": "stdout",
     "output_type": "stream",
     "text": [
      "Collecting pandas\n",
      "  Downloading pandas-2.2.3-cp310-cp310-win_amd64.whl.metadata (19 kB)\n",
      "Requirement already satisfied: numpy>=1.22.4 in c:\\users\\ereci\\anaconda3\\envs\\qrng-rl\\lib\\site-packages (from pandas) (1.26.4)\n",
      "Requirement already satisfied: python-dateutil>=2.8.2 in c:\\users\\ereci\\anaconda3\\envs\\qrng-rl\\lib\\site-packages (from pandas) (2.9.0.post0)\n",
      "Requirement already satisfied: pytz>=2020.1 in c:\\users\\ereci\\anaconda3\\envs\\qrng-rl\\lib\\site-packages (from pandas) (2025.2)\n",
      "Collecting tzdata>=2022.7 (from pandas)\n",
      "  Using cached tzdata-2025.2-py2.py3-none-any.whl.metadata (1.4 kB)\n",
      "Requirement already satisfied: six>=1.5 in c:\\users\\ereci\\anaconda3\\envs\\qrng-rl\\lib\\site-packages (from python-dateutil>=2.8.2->pandas) (1.17.0)\n",
      "Downloading pandas-2.2.3-cp310-cp310-win_amd64.whl (11.6 MB)\n",
      "   ---------------------------------------- 0.0/11.6 MB ? eta -:--:--\n",
      "   ------- -------------------------------- 2.1/11.6 MB 11.8 MB/s eta 0:00:01\n",
      "   ----------------- ---------------------- 5.0/11.6 MB 13.1 MB/s eta 0:00:01\n",
      "   ---------------------------- ----------- 8.1/11.6 MB 13.6 MB/s eta 0:00:01\n",
      "   ---------------------------------------- 11.6/11.6 MB 14.8 MB/s eta 0:00:00\n",
      "Using cached tzdata-2025.2-py2.py3-none-any.whl (347 kB)\n",
      "Installing collected packages: tzdata, pandas\n",
      "\n",
      "   ---------------------------------------- 0/2 [tzdata]\n",
      "   -------------------- ------------------- 1/2 [pandas]\n",
      "   -------------------- ------------------- 1/2 [pandas]\n",
      "   -------------------- ------------------- 1/2 [pandas]\n",
      "   -------------------- ------------------- 1/2 [pandas]\n",
      "   -------------------- ------------------- 1/2 [pandas]\n",
      "   -------------------- ------------------- 1/2 [pandas]\n",
      "   -------------------- ------------------- 1/2 [pandas]\n",
      "   -------------------- ------------------- 1/2 [pandas]\n",
      "   -------------------- ------------------- 1/2 [pandas]\n",
      "   -------------------- ------------------- 1/2 [pandas]\n",
      "   -------------------- ------------------- 1/2 [pandas]\n",
      "   -------------------- ------------------- 1/2 [pandas]\n",
      "   -------------------- ------------------- 1/2 [pandas]\n",
      "   -------------------- ------------------- 1/2 [pandas]\n",
      "   -------------------- ------------------- 1/2 [pandas]\n",
      "   -------------------- ------------------- 1/2 [pandas]\n",
      "   -------------------- ------------------- 1/2 [pandas]\n",
      "   -------------------- ------------------- 1/2 [pandas]\n",
      "   -------------------- ------------------- 1/2 [pandas]\n",
      "   -------------------- ------------------- 1/2 [pandas]\n",
      "   -------------------- ------------------- 1/2 [pandas]\n",
      "   -------------------- ------------------- 1/2 [pandas]\n",
      "   -------------------- ------------------- 1/2 [pandas]\n",
      "   -------------------- ------------------- 1/2 [pandas]\n",
      "   -------------------- ------------------- 1/2 [pandas]\n",
      "   -------------------- ------------------- 1/2 [pandas]\n",
      "   -------------------- ------------------- 1/2 [pandas]\n",
      "   -------------------- ------------------- 1/2 [pandas]\n",
      "   -------------------- ------------------- 1/2 [pandas]\n",
      "   -------------------- ------------------- 1/2 [pandas]\n",
      "   -------------------- ------------------- 1/2 [pandas]\n",
      "   -------------------- ------------------- 1/2 [pandas]\n",
      "   -------------------- ------------------- 1/2 [pandas]\n",
      "   -------------------- ------------------- 1/2 [pandas]\n",
      "   -------------------- ------------------- 1/2 [pandas]\n",
      "   -------------------- ------------------- 1/2 [pandas]\n",
      "   -------------------- ------------------- 1/2 [pandas]\n",
      "   -------------------- ------------------- 1/2 [pandas]\n",
      "   -------------------- ------------------- 1/2 [pandas]\n",
      "   -------------------- ------------------- 1/2 [pandas]\n",
      "   -------------------- ------------------- 1/2 [pandas]\n",
      "   ---------------------------------------- 2/2 [pandas]\n",
      "\n",
      "Successfully installed pandas-2.2.3 tzdata-2025.2\n"
     ]
    }
   ],
   "source": [
    "!pip install pandas"
   ]
  },
  {
   "cell_type": "code",
   "execution_count": 27,
   "id": "e7fc100d",
   "metadata": {},
   "outputs": [
    {
     "data": {
      "image/png": "[encoded data removed]",
      "text/plain": [
       "<Figure size 1000x400 with 1 Axes>"
      ]
     },
     "metadata": {},
     "output_type": "display_data"
    }
   ],
   "source": [
    "import pandas as pd\n",
    "\n",
    "rewards = agent.history_rewards\n",
    "episodes = np.arange(len(rewards))\n",
    "\n",
    "# compute 50‑episode moving average\n",
    "ma = pd.Series(rewards).rolling(window=50, min_periods=1).mean()\n",
    "\n",
    "plt.figure(figsize=(10,4))\n",
    "plt.plot(episodes, rewards, alpha=0.3, label=\"Per‑Episode Reward\")\n",
    "plt.plot(episodes, ma,    lw=2,   label=\"50‑Episode MA\")\n",
    "plt.xlabel(\"Episode\")\n",
    "plt.ylabel(\"Total Reward\")\n",
    "plt.title(\"Smoothed Q‑Learning Curve\")\n",
    "plt.legend()\n",
    "plt.grid(True)\n",
    "plt.show()\n"
   ]
  },
  {
   "cell_type": "code",
   "execution_count": 28,
   "id": "279e916a",
   "metadata": {},
   "outputs": [
    {
     "data": {
      "text/html": [
       "<div>\n",
       "<style scoped>\n",
       "    .dataframe tbody tr th:only-of-type {\n",
       "        vertical-align: middle;\n",
       "    }\n",
       "\n",
       "    .dataframe tbody tr th {\n",
       "        vertical-align: top;\n",
       "    }\n",
       "\n",
       "    .dataframe thead th {\n",
       "        text-align: right;\n",
       "    }\n",
       "</style>\n",
       "<table border=\"1\" class=\"dataframe\">\n",
       "  <thead>\n",
       "    <tr style=\"text-align: right;\">\n",
       "      <th></th>\n",
       "      <th>Bias</th>\n",
       "      <th>OutLen</th>\n",
       "    </tr>\n",
       "    <tr>\n",
       "      <th>Extractor</th>\n",
       "      <th></th>\n",
       "      <th></th>\n",
       "    </tr>\n",
       "  </thead>\n",
       "  <tbody>\n",
       "    <tr>\n",
       "      <th>Meta‑RL</th>\n",
       "      <td>0.000586</td>\n",
       "      <td>10240</td>\n",
       "    </tr>\n",
       "    <tr>\n",
       "      <th>VN</th>\n",
       "      <td>0.002422</td>\n",
       "      <td>4954</td>\n",
       "    </tr>\n",
       "    <tr>\n",
       "      <th>Elias</th>\n",
       "      <td>0.012689</td>\n",
       "      <td>8551</td>\n",
       "    </tr>\n",
       "    <tr>\n",
       "      <th>Hash</th>\n",
       "      <td>0.031250</td>\n",
       "      <td>256</td>\n",
       "    </tr>\n",
       "    <tr>\n",
       "      <th>MW</th>\n",
       "      <td>0.002200</td>\n",
       "      <td>10000</td>\n",
       "    </tr>\n",
       "  </tbody>\n",
       "</table>\n",
       "</div>"
      ],
      "text/plain": [
       "               Bias  OutLen\n",
       "Extractor                  \n",
       "Meta‑RL    0.000586   10240\n",
       "VN         0.002422    4954\n",
       "Elias      0.012689    8551\n",
       "Hash       0.031250     256\n",
       "MW         0.002200   10000"
      ]
     },
     "execution_count": 28,
     "metadata": {},
     "output_type": "execute_result"
    }
   ],
   "source": [
    "\n",
    "\n",
    "# Resetting env and prepare storage\n",
    "state, done = env.reset(), False\n",
    "meta_out    = []\n",
    "\n",
    "\n",
    "while not done:\n",
    "    # Discretizing via the agent, then picking the best action\n",
    "    s = agent.discretize(state)\n",
    "    a = int(np.argmax(agent.q_table[s]))\n",
    "    # Take the step\n",
    "    state, _, done, info = env.step(a)\n",
    "    meta_out.extend(info['out_bits'])\n",
    "\n",
    "# Running classical extractors\n",
    "results = {\n",
    "    'Meta‑RL': meta_out,\n",
    "    'VN':      von_neumann(raw),\n",
    "    'Elias':   elias(raw),\n",
    "    'Hash':    universal_hash(raw, seed=\"seed\"),\n",
    "}\n",
    "\n",
    "# Maurer–Wolf\n",
    "rb    = ExtractorEnv._bits_to_bytes(raw)\n",
    "mw_bs = maurer_wolf_extractor(rb, seed=b\"seed\", output_len=len(rb)//2)\n",
    "results['MW'] = ExtractorEnv._bytes_to_bits(mw_bs)\n",
    "\n",
    "# Building a DataFrame of bias and output length\n",
    "import pandas as pd\n",
    "data = []\n",
    "for name, out in results.items():\n",
    "    data.append({\n",
    "        'Extractor': name,\n",
    "        'Bias':      compute_bias(out),\n",
    "        'OutLen':    len(out)\n",
    "    })\n",
    "df = pd.DataFrame(data).set_index('Extractor')\n",
    "\n",
    "# Displaying the comparison\n",
    "df\n"
   ]
  },
  {
   "cell_type": "code",
   "execution_count": 29,
   "id": "3a1aaa00",
   "metadata": {},
   "outputs": [
    {
     "data": {
      "image/png": "[encoded data removed]",
      "text/plain": [
       "<Figure size 1000x400 with 2 Axes>"
      ]
     },
     "metadata": {},
     "output_type": "display_data"
    }
   ],
   "source": [
    "import matplotlib.pyplot as plt\n",
    "\n",
    "fig, axes = plt.subplots(1,2, figsize=(10,4))\n",
    "\n",
    "\n",
    "df['Bias'].plot.bar(ax=axes[0], title='Bias Comparison')\n",
    "axes[0].set_ylabel('Absolute Bias')\n",
    "\n",
    "# Output Length\n",
    "df['OutLen'].plot.bar(ax=axes[1], title='Output Length')\n",
    "axes[1].set_ylabel('Bits Extracted')\n",
    "\n",
    "plt.tight_layout()\n",
    "plt.show()\n"
   ]
  },
  {
   "cell_type": "code",
   "execution_count": 30,
   "id": "b9418337",
   "metadata": {},
   "outputs": [
    {
     "name": "stdout",
     "output_type": "stream",
     "text": [
      "Collecting nistrng\n",
      "  Using cached nistrng-1.2.3.tar.gz (19 kB)\n",
      "  Preparing metadata (setup.py): started\n",
      "  Preparing metadata (setup.py): finished with status 'done'\n",
      "Requirement already satisfied: numpy>=1.14.5 in c:\\users\\ereci\\anaconda3\\envs\\qrng-rl\\lib\\site-packages (from nistrng) (1.26.4)\n",
      "Requirement already satisfied: scipy>=1.2.2 in c:\\users\\ereci\\anaconda3\\envs\\qrng-rl\\lib\\site-packages (from nistrng) (1.15.2)\n",
      "Building wheels for collected packages: nistrng\n",
      "  Building wheel for nistrng (setup.py): started\n",
      "  Building wheel for nistrng (setup.py): finished with status 'done'\n",
      "  Created wheel for nistrng: filename=nistrng-1.2.3-py3-none-any.whl size=38179 sha256=2635a23c36788be77d398e6bf16c3eb16e573aa2884c0e9052893c059d0d2184\n",
      "  Stored in directory: c:\\users\\ereci\\appdata\\local\\pip\\cache\\wheels\\1c\\8b\\b4\\9748dc9b9309d26efb89edfb91f5f04ce89c6716f5ef413482\n",
      "Successfully built nistrng\n",
      "Installing collected packages: nistrng\n",
      "Successfully installed nistrng-1.2.3\n"
     ]
    },
    {
     "name": "stderr",
     "output_type": "stream",
     "text": [
      "  DEPRECATION: Building 'nistrng' using the legacy setup.py bdist_wheel mechanism, which will be removed in a future version. pip 25.3 will enforce this behaviour change. A possible replacement is to use the standardized build interface by setting the `--use-pep517` option, (possibly combined with `--no-build-isolation`), or adding a `pyproject.toml` file to the source tree of 'nistrng'. Discussion can be found at https://github.com/pypa/pip/issues/6334\n"
     ]
    }
   ],
   "source": [
    "\n",
    "!pip install nistrng\n"
   ]
  },
  {
   "cell_type": "code",
   "execution_count": 31,
   "id": "48abe2c0",
   "metadata": {},
   "outputs": [
    {
     "name": "stdout",
     "output_type": "stream",
     "text": [
      "Raw Qiskit‐Aer stream: 10/11 tests passed (90.91%)\n"
     ]
    }
   ],
   "source": [
    "import numpy as np\n",
    "from nistrng import (\n",
    "    SP800_22R1A_BATTERY,\n",
    "    check_eligibility_all_battery,\n",
    "    run_all_battery\n",
    ")\n",
    "\n",
    "def nist_pass_rate(bits: list[int]) -> tuple[int,int]:\n",
    "    seq = np.array(bits, dtype=np.int8)\n",
    "    eligible = check_eligibility_all_battery(seq, SP800_22R1A_BATTERY)\n",
    "    results  = run_all_battery(seq, eligible, False)\n",
    "    passed   = sum(1 for res,_ in results if res.passed)\n",
    "    total    = len(results)\n",
    "    return passed, total\n",
    "\n",
    "p_raw, n_raw = nist_pass_rate(raw)\n",
    "print(f\"Raw Qiskit‐Aer stream: {p_raw}/{n_raw} tests passed ({p_raw/n_raw:.2%})\")\n"
   ]
  },
  {
   "cell_type": "code",
   "execution_count": 32,
   "id": "c964c61b",
   "metadata": {},
   "outputs": [
    {
     "data": {
      "text/html": [
       "<div>\n",
       "<style scoped>\n",
       "    .dataframe tbody tr th:only-of-type {\n",
       "        vertical-align: middle;\n",
       "    }\n",
       "\n",
       "    .dataframe tbody tr th {\n",
       "        vertical-align: top;\n",
       "    }\n",
       "\n",
       "    .dataframe thead th {\n",
       "        text-align: right;\n",
       "    }\n",
       "</style>\n",
       "<table border=\"1\" class=\"dataframe\">\n",
       "  <thead>\n",
       "    <tr style=\"text-align: right;\">\n",
       "      <th></th>\n",
       "      <th>p_value</th>\n",
       "      <th>pass</th>\n",
       "      <th>time_ms</th>\n",
       "    </tr>\n",
       "    <tr>\n",
       "      <th>Test</th>\n",
       "      <th></th>\n",
       "      <th></th>\n",
       "      <th></th>\n",
       "    </tr>\n",
       "  </thead>\n",
       "  <tbody>\n",
       "    <tr>\n",
       "      <th>Monobit</th>\n",
       "      <td>0.282463</td>\n",
       "      <td>True</td>\n",
       "      <td>0</td>\n",
       "    </tr>\n",
       "    <tr>\n",
       "      <th>Frequency Within Block</th>\n",
       "      <td>0.204291</td>\n",
       "      <td>True</td>\n",
       "      <td>0</td>\n",
       "    </tr>\n",
       "    <tr>\n",
       "      <th>Runs</th>\n",
       "      <td>0.226999</td>\n",
       "      <td>True</td>\n",
       "      <td>3</td>\n",
       "    </tr>\n",
       "    <tr>\n",
       "      <th>Longest Run Ones In A Block</th>\n",
       "      <td>0.906461</td>\n",
       "      <td>True</td>\n",
       "      <td>4</td>\n",
       "    </tr>\n",
       "    <tr>\n",
       "      <th>Discrete Fourier Transform</th>\n",
       "      <td>0.795208</td>\n",
       "      <td>True</td>\n",
       "      <td>1</td>\n",
       "    </tr>\n",
       "    <tr>\n",
       "      <th>Non Overlapping Template Matching</th>\n",
       "      <td>0.999991</td>\n",
       "      <td>True</td>\n",
       "      <td>27</td>\n",
       "    </tr>\n",
       "    <tr>\n",
       "      <th>Serial</th>\n",
       "      <td>0.597510</td>\n",
       "      <td>True</td>\n",
       "      <td>392</td>\n",
       "    </tr>\n",
       "    <tr>\n",
       "      <th>Approximate Entropy</th>\n",
       "      <td>0.343763</td>\n",
       "      <td>True</td>\n",
       "      <td>371</td>\n",
       "    </tr>\n",
       "    <tr>\n",
       "      <th>Cumulative Sums</th>\n",
       "      <td>0.438823</td>\n",
       "      <td>True</td>\n",
       "      <td>9</td>\n",
       "    </tr>\n",
       "    <tr>\n",
       "      <th>Random Excursion</th>\n",
       "      <td>0.052745</td>\n",
       "      <td>False</td>\n",
       "      <td>37</td>\n",
       "    </tr>\n",
       "    <tr>\n",
       "      <th>Random Excursion Variant</th>\n",
       "      <td>0.692055</td>\n",
       "      <td>True</td>\n",
       "      <td>0</td>\n",
       "    </tr>\n",
       "  </tbody>\n",
       "</table>\n",
       "</div>"
      ],
      "text/plain": [
       "                                    p_value   pass  time_ms\n",
       "Test                                                       \n",
       "Monobit                            0.282463   True        0\n",
       "Frequency Within Block             0.204291   True        0\n",
       "Runs                               0.226999   True        3\n",
       "Longest Run Ones In A Block        0.906461   True        4\n",
       "Discrete Fourier Transform         0.795208   True        1\n",
       "Non Overlapping Template Matching  0.999991   True       27\n",
       "Serial                             0.597510   True      392\n",
       "Approximate Entropy                0.343763   True      371\n",
       "Cumulative Sums                    0.438823   True        9\n",
       "Random Excursion                   0.052745  False       37\n",
       "Random Excursion Variant           0.692055   True        0"
      ]
     },
     "execution_count": 32,
     "metadata": {},
     "output_type": "execute_result"
    }
   ],
   "source": [
    "# Pure‑Python SP 800‑22 via nistrng \n",
    "\n",
    "import numpy as np\n",
    "import pandas as pd\n",
    "from nistrng import (\n",
    "    SP800_22R1A_BATTERY,\n",
    "    check_eligibility_all_battery,\n",
    "    run_all_battery\n",
    ")\n",
    "\n",
    "\n",
    "binary_sequence = np.array(raw, dtype=np.int8)   \n",
    "\n",
    "\n",
    "eligible = check_eligibility_all_battery(\n",
    "    binary_sequence,\n",
    "    SP800_22R1A_BATTERY\n",
    ")\n",
    "\n",
    "\n",
    "results = run_all_battery(\n",
    "    binary_sequence,\n",
    "    eligible,\n",
    "    False\n",
    ")\n",
    "\n",
    "# Building a DataFrame of p‑values, pass/fail, and timing\n",
    "rows = []\n",
    "for result_obj, elapsed_ms in results:\n",
    "    rows.append({\n",
    "        \"Test\":     result_obj.name,\n",
    "        \"p_value\":  result_obj.score,\n",
    "        \"pass\":     result_obj.passed,\n",
    "        \"time_ms\":  elapsed_ms\n",
    "    })\n",
    "\n",
    "df_nist = pd.DataFrame(rows).set_index(\"Test\")\n",
    "df_nist\n"
   ]
  },
  {
   "cell_type": "code",
   "execution_count": 34,
   "id": "e7a3c27c",
   "metadata": {},
   "outputs": [
    {
     "data": {
      "text/html": [
       "<div>\n",
       "<style scoped>\n",
       "    .dataframe tbody tr th:only-of-type {\n",
       "        vertical-align: middle;\n",
       "    }\n",
       "\n",
       "    .dataframe tbody tr th {\n",
       "        vertical-align: top;\n",
       "    }\n",
       "\n",
       "    .dataframe thead th {\n",
       "        text-align: right;\n",
       "    }\n",
       "</style>\n",
       "<table border=\"1\" class=\"dataframe\">\n",
       "  <thead>\n",
       "    <tr style=\"text-align: right;\">\n",
       "      <th></th>\n",
       "      <th>Passed</th>\n",
       "      <th>Total</th>\n",
       "      <th>PassRate</th>\n",
       "    </tr>\n",
       "    <tr>\n",
       "      <th>Extractor</th>\n",
       "      <th></th>\n",
       "      <th></th>\n",
       "      <th></th>\n",
       "    </tr>\n",
       "  </thead>\n",
       "  <tbody>\n",
       "    <tr>\n",
       "      <th>Raw</th>\n",
       "      <td>10</td>\n",
       "      <td>11</td>\n",
       "      <td>0.909091</td>\n",
       "    </tr>\n",
       "    <tr>\n",
       "      <th>VN</th>\n",
       "      <td>9</td>\n",
       "      <td>11</td>\n",
       "      <td>0.818182</td>\n",
       "    </tr>\n",
       "    <tr>\n",
       "      <th>Elias</th>\n",
       "      <td>8</td>\n",
       "      <td>11</td>\n",
       "      <td>0.727273</td>\n",
       "    </tr>\n",
       "    <tr>\n",
       "      <th>Hash</th>\n",
       "      <td>9</td>\n",
       "      <td>11</td>\n",
       "      <td>0.818182</td>\n",
       "    </tr>\n",
       "    <tr>\n",
       "      <th>MW</th>\n",
       "      <td>10</td>\n",
       "      <td>11</td>\n",
       "      <td>0.909091</td>\n",
       "    </tr>\n",
       "    <tr>\n",
       "      <th>Meta‑RL</th>\n",
       "      <td>10</td>\n",
       "      <td>11</td>\n",
       "      <td>0.909091</td>\n",
       "    </tr>\n",
       "  </tbody>\n",
       "</table>\n",
       "</div>"
      ],
      "text/plain": [
       "           Passed  Total  PassRate\n",
       "Extractor                         \n",
       "Raw            10     11  0.909091\n",
       "VN              9     11  0.818182\n",
       "Elias           8     11  0.727273\n",
       "Hash            9     11  0.818182\n",
       "MW             10     11  0.909091\n",
       "Meta‑RL        10     11  0.909091"
      ]
     },
     "execution_count": 34,
     "metadata": {},
     "output_type": "execute_result"
    }
   ],
   "source": [
    "#  Comparing Pass‐Rates for Each Extractor \n",
    "import numpy as np\n",
    "import pandas as pd\n",
    "from nistrng import (\n",
    "    SP800_22R1A_BATTERY,\n",
    "    check_eligibility_all_battery,\n",
    "    run_all_battery\n",
    ")\n",
    "\n",
    "def pass_rate(bits):\n",
    "    seq = np.array(bits, dtype=np.int8)\n",
    "    eligible = check_eligibility_all_battery(seq, SP800_22R1A_BATTERY)\n",
    "    results = run_all_battery(seq, eligible, False)\n",
    "    total = len(results)\n",
    "    passed = sum(1 for res, _ in results if res.passed)\n",
    "    return passed, total\n",
    "\n",
    "# Building the streams dict (reuse raw, meta_out, etc.)\n",
    "streams = {\n",
    "    'Raw':     raw,\n",
    "    'VN':      von_neumann(raw_bits),\n",
    "    'Elias':   elias(raw_bits),\n",
    "    'Hash':    universal_hash(raw_bits, seed=\"seed\"),\n",
    "    'MW':      ExtractorEnv._bytes_to_bits(\n",
    "                   maurer_wolf_extractor(bits_to_bytes(raw_bits),\n",
    "                                        seed=b\"seed\",\n",
    "                                        output_len=len(raw_bits)//2)\n",
    "               ),\n",
    "    'Meta‑RL': meta_out\n",
    "}\n",
    "\n",
    "# Computing pass‐rates\n",
    "data = []\n",
    "for name, bits in streams.items():\n",
    "    p, n = pass_rate(bits)\n",
    "    data.append({'Extractor': name,\n",
    "                 'Passed':    p,\n",
    "                 'Total':     n,\n",
    "                 'PassRate':  p/n})\n",
    "\n",
    "df_rates = pd.DataFrame(data).set_index('Extractor')\n",
    "df_rates\n"
   ]
  },
  {
   "cell_type": "code",
   "execution_count": 35,
   "id": "bcb4a08b",
   "metadata": {},
   "outputs": [
    {
     "data": {
      "image/png": "[encoded data removed]",
      "text/plain": [
       "<Figure size 640x480 with 1 Axes>"
      ]
     },
     "metadata": {},
     "output_type": "display_data"
    }
   ],
   "source": [
    "ax = df_rates['PassRate'].plot.bar(\n",
    "    title='SP 800‑22 Pass Rate by Extractor', ylim=(0,1)\n",
    ")\n",
    "ax.set_ylabel('Fraction of Tests Passed')\n",
    "plt.tight_layout()\n",
    "plt.show()\n"
   ]
  },
  {
   "cell_type": "code",
   "execution_count": null,
   "id": "3c94e2ed",
   "metadata": {},
   "outputs": [
    {
     "name": "stderr",
     "output_type": "stream",
     "text": [
      "To https://github.com/WarriorErik/QRANDOPT.git\n",
      " * [new tag]         v0.4 -> v0.4\n"
     ]
    }
   ],
   "source": [
    "#comitting my milestone\n",
    "!git tag -a v0.5 -m \"Milestone 5: complete\"\n",
    "\n",
    "\n",
    "!git push origin v0.5\n"
   ]
  }
 ],
 "metadata": {
  "kernelspec": {
   "display_name": "qrng-rl",
   "language": "python",
   "name": "python3"
  },
  "language_info": {
   "codemirror_mode": {
    "name": "ipython",
    "version": 3
   },
   "file_extension": ".py",
   "mimetype": "text/x-python",
   "name": "python",
   "nbconvert_exporter": "python",
   "pygments_lexer": "ipython3",
   "version": "3.10.17"
  }
 },
 "nbformat": 4,
 "nbformat_minor": 5
}
