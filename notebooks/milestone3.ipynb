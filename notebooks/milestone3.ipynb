{
 "cells": [
  {
   "cell_type": "code",
   "execution_count": 1,
   "id": "5385976a",
   "metadata": {},
   "outputs": [],
   "source": [
    "import sys, os\n",
    "project_root = os.path.abspath(os.path.join(os.getcwd(), os.pardir))\n",
    "if project_root not in sys.path:\n",
    "    sys.path.insert(0, project_root)\n",
    "\n",
    "from extractors import von_neumann, elias, universal_hash\n",
    "from utils import compute_bias\n",
    "\n",
    "\n",
    "import numpy as np\n",
    "import matplotlib.pyplot as plt\n"
   ]
  },
  {
   "cell_type": "code",
   "execution_count": 5,
   "id": "4c1c5719",
   "metadata": {},
   "outputs": [
    {
     "data": {
      "text/plain": [
       "'c:\\\\Users\\\\ereci\\\\OneDrive\\\\Desktop\\\\QRANDOPT\\\\QRANDOPT\\\\notebooks'"
      ]
     },
     "execution_count": 5,
     "metadata": {},
     "output_type": "execute_result"
    }
   ],
   "source": [
    "import os\n",
    "os.getcwd()\n"
   ]
  },
  {
   "cell_type": "code",
   "execution_count": null,
   "id": "4bf14841",
   "metadata": {},
   "outputs": [
    {
     "name": "stdout",
     "output_type": "stream",
     "text": [
      "\n",
      "\u001b[33m\u001b[33mno tests ran\u001b[0m\u001b[33m in 0.00s\u001b[0m\u001b[0m\n",
      "pytest exited with code 5\n"
     ]
    }
   ],
   "source": [
    "import pytest\n",
    "\n",
    "\n",
    "exit_code = pytest.main([\n",
    "    \"--maxfail=1\",\n",
    "    \"--disable-warnings\",\n",
    "    \"-q\",\n",
    "])\n",
    "print(f\"pytest exited with code {exit_code}\")\n"
   ]
  },
  {
   "cell_type": "code",
   "execution_count": 3,
   "id": "bd4106e8",
   "metadata": {},
   "outputs": [
    {
     "name": "stdout",
     "output_type": "stream",
     "text": [
      "Raw bias = 0.317, length = 1000\n"
     ]
    }
   ],
   "source": [
    "\n",
    "raw_bits = np.random.choice([0,1], size=1000, p=[0.8,0.2]).tolist()\n",
    "print(f\"Raw bias = {compute_bias(raw_bits):.3f}, length = {len(raw_bits)}\")\n"
   ]
  },
  {
   "cell_type": "code",
   "execution_count": 3,
   "id": "fd282528",
   "metadata": {},
   "outputs": [
    {
     "name": "stdout",
     "output_type": "stream",
     "text": [
      "✔️ Project root: C:\\Users\\ereci\\OneDrive\\Desktop\\QRANDOPT\\QRANDOPT\n",
      "✔️ Working dir:   C:\\Users\\ereci\\OneDrive\\Desktop\\QRANDOPT\\QRANDOPT\n"
     ]
    }
   ],
   "source": [
    "\n",
    "import sys, os\n",
    "from pathlib import Path\n",
    "\n",
    "\n",
    "p = Path().resolve()\n",
    "\n",
    "\n",
    "while not (p / \"extractors\").is_dir():\n",
    "    if p.parent == p:\n",
    "        raise RuntimeError(\"Could not find project root (no 'extractors/' folder).\")\n",
    "    p = p.parent\n",
    "\n",
    "project_root = p  \n",
    "\n",
    "\n",
    "os.chdir(project_root)\n",
    "\n",
    "\n",
    "if str(project_root) not in sys.path:\n",
    "    sys.path.insert(0, str(project_root))\n",
    "\n",
    "print(f\"✔️ Project root: {project_root}\")\n",
    "print(f\"✔️ Working dir:   {os.getcwd()}\")\n"
   ]
  },
  {
   "cell_type": "code",
   "execution_count": 4,
   "id": "c037a37f",
   "metadata": {},
   "outputs": [
    {
     "name": "stdout",
     "output_type": "stream",
     "text": [
      "pytest already installed\n"
     ]
    }
   ],
   "source": [
    "\n",
    "import importlib, subprocess, sys\n",
    "\n",
    "if importlib.util.find_spec(\"pytest\") is None:\n",
    "    print(\"Installing pytest…\")\n",
    "    subprocess.check_call([sys.executable, \"-m\", \"pip\", \"install\", \"pytest\"])\n",
    "else:\n",
    "    print(\"pytest already installed\")\n"
   ]
  },
  {
   "cell_type": "code",
   "execution_count": null,
   "id": "7431964c",
   "metadata": {},
   "outputs": [
    {
     "name": "stdout",
     "output_type": "stream",
     "text": [
      "Extractor     | Bias before | Bias after | Output len\n",
      "------------- | ----------- | ---------- | ----------\n",
      "         VN |       0.318 |      0.014 |        140\n",
      "      Elias |       0.318 |      0.125 |        168\n",
      "       Hash |       0.318 |      0.039 |        256\n",
      "Maurer–Wolf |       0.318 |      0.004 |        496\n"
     ]
    },
    {
     "data": {
      "image/png": "[encoded data removed]",
      "text/plain": [
       "<Figure size 640x480 with 1 Axes>"
      ]
     },
     "metadata": {},
     "output_type": "display_data"
    }
   ],
   "source": [
    "\"\"\"\n",
    "compare_extractors.py\n",
    "Bias comparison and plotting for classical extractors plus Maurer–Wolf.\n",
    "\"\"\"\n",
    "import pytest\n",
    "import numpy as np\n",
    "import matplotlib.pyplot as plt\n",
    "\n",
    "from extractors.von_neumann    import von_neumann\n",
    "from extractors.elias          import elias\n",
    "from extractors.universal_hash import universal_hash\n",
    "from extractors.maurer_wolf    import maurer_wolf_extractor\n",
    "from utils                     import compute_bias\n",
    "\n",
    "def bits_to_bytes(bits):\n",
    "    \"\"\"Pack list of 0/1 bits into a bytes object (MSB-first).\"\"\"\n",
    "   \n",
    "    pad = (-len(bits)) % 8\n",
    "    bits = bits + [0]*pad\n",
    "    output = bytearray()\n",
    "    for i in range(0, len(bits), 8):\n",
    "        byte = 0\n",
    "        for b in bits[i:i+8]:\n",
    "            byte = (byte << 1) | b\n",
    "        output.append(byte)\n",
    "    return bytes(output)\n",
    "\n",
    "def bytes_to_bits(b):\n",
    "    \"\"\"Unpack bytes into list of bits (MSB-first).\"\"\"\n",
    "    bits = []\n",
    "    for byte in b:\n",
    "        for shift in range(7, -1, -1):\n",
    "            bits.append((byte >> shift) & 1)\n",
    "    return bits\n",
    "\n",
    "\n",
    "raw_bits = np.random.choice([0, 1], size=1000, p=[0.8, 0.2]).tolist()\n",
    "\n",
    "# Applying extractors & computing bias\n",
    "results = {}\n",
    "for name, fn in [\n",
    "    (\"VN\",          von_neumann),\n",
    "    (\"Elias\",       elias),\n",
    "    (\"Hash\",        lambda bits: universal_hash(bits, seed=\"abc\")),\n",
    "    (\"Maurer–Wolf\", None)  \n",
    "]:\n",
    "    if name != \"Maurer–Wolf\":\n",
    "        out = fn(raw_bits)\n",
    "    else:\n",
    "        # preparing inputs for the byte-based extractor\n",
    "        raw_bytes = bits_to_bytes(raw_bits)\n",
    "        seed      = b\"abc\"              \n",
    "        out_len   = len(raw_bytes) // 2 \n",
    "        extracted = maurer_wolf_extractor(raw_bytes, seed, out_len)\n",
    "        out = bytes_to_bits(extracted)\n",
    "\n",
    "    results[name] = (compute_bias(raw_bits), compute_bias(out), len(out))\n",
    "\n",
    "# Print summary table\n",
    "print(\"Extractor     | Bias before | Bias after | Output len\")\n",
    "print(\"------------- | ----------- | ---------- | ----------\")\n",
    "for name, (b0, b1, L) in results.items():\n",
    "    print(f\"{name:>11} | {b0:>11.3f} | {b1:>10.3f} | {L:>10}\")\n",
    "\n",
    "# Plot bias reduction\n",
    "labels = list(results.keys())\n",
    "before = [v[0] for v in results.values()]\n",
    "after  = [v[1] for v in results.values()]\n",
    "x = np.arange(len(labels))\n",
    "w = 0.35\n",
    "\n",
    "fig, ax = plt.subplots()\n",
    "ax.bar(x - w/2, before, width=w, label=\"Before\")\n",
    "ax.bar(x + w/2, after,  width=w, label=\"After\")\n",
    "ax.set_xticks(x)\n",
    "ax.set_xticklabels(labels, rotation=15, ha=\"right\")\n",
    "ax.set_ylabel(\"Absolute Bias\")\n",
    "ax.set_title(\"Bias Reduction via Extractors\")\n",
    "ax.legend()\n",
    "plt.tight_layout()\n",
    "plt.show()\n",
    "\n",
    "\n"
   ]
  },
  {
   "cell_type": "code",
   "execution_count": null,
   "id": "40f16d16",
   "metadata": {},
   "outputs": [
    {
     "name": "stdout",
     "output_type": "stream",
     "text": [
      "\u001b[32m.\u001b[0m\u001b[32m.\u001b[0m\u001b[32m.\u001b[0m\u001b[32m.\u001b[0m\u001b[32m.\u001b[0m\u001b[32m.\u001b[0m\u001b[32m                                                                   [100%]\u001b[0m\n",
      "\u001b[32m\u001b[32m\u001b[1m6 passed\u001b[0m\u001b[32m in 0.03s\u001b[0m\u001b[0m\n",
      "pytest exited with code 0\n"
     ]
    }
   ],
   "source": [
    "\n",
    "import pytest\n",
    "\n",
    "# Explicitly pointing pytest at the tests directory:\n",
    "exit_code = pytest.main([\n",
    "    f\"{project_root}/tests\",\n",
    "    \"--maxfail=1\",\n",
    "    \"--disable-warnings\",\n",
    "    \"-q\",\n",
    "])\n",
    "print(f\"pytest exited with code {exit_code}\")\n"
   ]
  },
  {
   "cell_type": "code",
   "execution_count": 10,
   "id": "e58e7e87",
   "metadata": {},
   "outputs": [
    {
     "name": "stdout",
     "output_type": "stream",
     "text": [
      "N=1000  | before=0.285 | after=0.313 | len=801\n",
      "N=5000  | before=0.302 | after=0.318 | len=4104\n",
      "N=20000 | before=0.304 | after=0.317 | len=16905\n"
     ]
    }
   ],
   "source": [
    "import numpy as np\n",
    "\n",
    "\n",
    "\n",
    "for N in [1000, 5000, 20000]:\n",
    "    raw = np.random.choice([0,1], N, p=[0.8,0.2]).tolist()\n",
    "    out = elias(raw)\n",
    "    print(f\"N={N:<5d} | before={compute_bias(raw):.3f} | after={compute_bias(out):.3f} | len={len(out)}\")\n"
   ]
  },
  {
   "cell_type": "code",
   "execution_count": null,
   "id": "ca9f7a11",
   "metadata": {},
   "outputs": [],
   "source": []
  }
 ],
 "metadata": {
  "kernelspec": {
   "display_name": "qrng311",
   "language": "python",
   "name": "python3"
  },
  "language_info": {
   "codemirror_mode": {
    "name": "ipython",
    "version": 3
   },
   "file_extension": ".py",
   "mimetype": "text/x-python",
   "name": "python",
   "nbconvert_exporter": "python",
   "pygments_lexer": "ipython3",
   "version": "3.11.11"
  }
 },
 "nbformat": 4,
 "nbformat_minor": 5
}
